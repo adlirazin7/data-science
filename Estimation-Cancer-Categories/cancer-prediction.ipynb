{
 "cells": [
  {
   "cell_type": "markdown",
   "id": "33777765",
   "metadata": {},
   "source": [
    "***\n",
    "# Classification Project\n",
    "# A Prediction Model for Estimating Cancer Rate Categories Across Countries"
   ]
  },
  {
   "cell_type": "markdown",
   "id": "7c91aa6a-7a6f-4d32-97c9-1886cb8e34fa",
   "metadata": {},
   "source": [
    "**Objective:**\n",
    "To develop a classification model of estimation of cancer categories."
   ]
  },
  {
   "cell_type": "markdown",
   "id": "122e7a4a-4e15-486e-9ab8-954e828fcdd2",
   "metadata": {},
   "source": [
    "**Importing Libraries**"
   ]
  },
  {
   "cell_type": "code",
   "execution_count": 1,
   "id": "546280e1-7cb0-4aed-af9c-eb616f9b0757",
   "metadata": {
    "tags": []
   },
   "outputs": [],
   "source": [
    "\n",
    "import numpy as np\n",
    "import pandas as pd\n",
    "import seaborn as sns\n",
    "import matplotlib.pyplot as plt\n",
    "import itertools\n",
    "%matplotlib inline\n",
    "\n",
    "from operator import add,mul,truediv\n",
    "from sklearn.experimental import enable_iterative_imputer\n",
    "from sklearn.impute import IterativeImputer\n",
    "from sklearn.linear_model import LinearRegression\n",
    "from sklearn.preprocessing import PowerTransformer\n",
    "from sklearn.preprocessing import StandardScaler\n",
    "from scipy import stats\n",
    "\n",
    "from sklearn.linear_model import LogisticRegression\n",
    "from sklearn.tree import DecisionTreeClassifier\n",
    "from sklearn.ensemble import RandomForestClassifier\n",
    "from sklearn.svm import SVC\n",
    "from sklearn.metrics import accuracy_score, precision_score, recall_score, f1_score, roc_auc_score, confusion_matrix, ConfusionMatrixDisplay\n",
    "from sklearn.model_selection import train_test_split, GridSearchCV\n",
    "from imblearn.over_sampling import SMOTE\n",
    "from imblearn.under_sampling import CondensedNearestNeighbour\n",
    "from sklearn.ensemble import StackingClassifier"
   ]
  },
  {
   "cell_type": "markdown",
   "id": "e4311dee-5f05-4d59-a6ea-bbfa1b609f78",
   "metadata": {},
   "source": [
    "## 1. Data Collection and Overview "
   ]
  },
  {
   "cell_type": "markdown",
   "id": "38cda2ac-cae2-4b03-9eec-515d92082638",
   "metadata": {},
   "source": [
    "The target variable for the study is:\n",
    "* <span style=\"color: #FF0000\">CANRAT</span> - Dichotomized category based on age-standardized cancer rates, per 100K population (2022)\n",
    "\n",
    "The predictor variables for the study are:\n",
    "* <span style=\"color: #FF0000\">GDPPER</span> - GDP per person employed, current US Dollars (2020)\n",
    "* <span style=\"color: #FF0000\">URBPOP</span> - Urban population, % of total population (2020)\n",
    "* <span style=\"color: #FF0000\">PATRES</span> - Patent applications by residents, total count (2020)\n",
    "* <span style=\"color: #FF0000\">RNDGDP</span> - Research and development expenditure, % of GDP (2020)\n",
    "* <span style=\"color: #FF0000\">POPGRO</span> - Population growth, annual % (2020)\n",
    "* <span style=\"color: #FF0000\">LIFEXP</span> - Life expectancy at birth, total in years (2020)\n",
    "* <span style=\"color: #FF0000\">TUBINC</span> - Incidence of tuberculosis, per 100K population (2020)\n",
    "* <span style=\"color: #FF0000\">DTHCMD</span> - Cause of death by communicable diseases and maternal, prenatal and nutrition conditions,  % of total (2019)\n",
    "* <span style=\"color: #FF0000\">AGRLND</span> - Agricultural land,  % of land area (2020)\n",
    "* <span style=\"color: #FF0000\">GHGEMI</span> - Total greenhouse gas emissions, kt of CO2 equivalent (2020)\n",
    "* <span style=\"color: #FF0000\">RELOUT</span> - Renewable electricity output, % of total electricity output (2015)\n",
    "* <span style=\"color: #FF0000\">METEMI</span> - Methane emissions, kt of CO2 equivalent (2020)\n",
    "* <span style=\"color: #FF0000\">FORARE</span> - Forest area, % of land area (2020)\n",
    "* <span style=\"color: #FF0000\">CO2EMI</span> - CO2 emissions, metric tons per capita (2020)\n",
    "* <span style=\"color: #FF0000\">PM2EXP</span> - PM2.5 air pollution, population exposed to levels exceeding WHO guideline value,  % of total (2017)\n",
    "* <span style=\"color: #FF0000\">POPDEN</span> - Population density, people per sq. km of land area (2020)\n",
    "* <span style=\"color: #FF0000\">GDPCAP</span> - GDP per capita, current US Dollars (2020)\n",
    "* <span style=\"color: #FF0000\">ENRTER</span> - Tertiary school enrollment, % gross (2020)\n",
    "* <span style=\"color: #FF0000\">HDICAT</span> - Human development index, ordered category (2020)\n",
    "* <span style=\"color: #FF0000\">EPISCO</span> - Environment performance index , score (2022)\n",
    "\n",
    "**The dataset and the description are retrieved from [github JohnPaulinePineda](https://github.com/JohnPaulinePineda/Supervised-Machine-Learning-Classification-Final-Assignment/blob/main/CategoricalCancerRates.csv)**\n"
   ]
  },
  {
   "cell_type": "code",
   "execution_count": 23,
   "id": "76523ce4",
   "metadata": {},
   "outputs": [
    {
     "data": {
      "text/html": [
       "<div>\n",
       "<style scoped>\n",
       "    .dataframe tbody tr th:only-of-type {\n",
       "        vertical-align: middle;\n",
       "    }\n",
       "\n",
       "    .dataframe tbody tr th {\n",
       "        vertical-align: top;\n",
       "    }\n",
       "\n",
       "    .dataframe thead th {\n",
       "        text-align: right;\n",
       "    }\n",
       "</style>\n",
       "<table border=\"1\" class=\"dataframe\">\n",
       "  <thead>\n",
       "    <tr style=\"text-align: right;\">\n",
       "      <th></th>\n",
       "      <th>COUNTRY</th>\n",
       "      <th>CANRAT</th>\n",
       "      <th>GDPPER</th>\n",
       "      <th>URBPOP</th>\n",
       "      <th>PATRES</th>\n",
       "      <th>RNDGDP</th>\n",
       "      <th>POPGRO</th>\n",
       "      <th>LIFEXP</th>\n",
       "      <th>TUBINC</th>\n",
       "      <th>DTHCMD</th>\n",
       "      <th>...</th>\n",
       "      <th>RELOUT</th>\n",
       "      <th>METEMI</th>\n",
       "      <th>FORARE</th>\n",
       "      <th>CO2EMI</th>\n",
       "      <th>PM2EXP</th>\n",
       "      <th>POPDEN</th>\n",
       "      <th>ENRTER</th>\n",
       "      <th>GDPCAP</th>\n",
       "      <th>HDICAT</th>\n",
       "      <th>EPISCO</th>\n",
       "    </tr>\n",
       "  </thead>\n",
       "  <tbody>\n",
       "    <tr>\n",
       "      <th>0</th>\n",
       "      <td>Australia</td>\n",
       "      <td>High</td>\n",
       "      <td>98380.63601</td>\n",
       "      <td>86.241</td>\n",
       "      <td>2368.0</td>\n",
       "      <td>NaN</td>\n",
       "      <td>1.235701</td>\n",
       "      <td>83.200000</td>\n",
       "      <td>7.2</td>\n",
       "      <td>4.941054</td>\n",
       "      <td>...</td>\n",
       "      <td>13.637841</td>\n",
       "      <td>131484.763200</td>\n",
       "      <td>17.421315</td>\n",
       "      <td>14.772658</td>\n",
       "      <td>24.893584</td>\n",
       "      <td>3.335312</td>\n",
       "      <td>110.139221</td>\n",
       "      <td>51722.06900</td>\n",
       "      <td>VH</td>\n",
       "      <td>60.1</td>\n",
       "    </tr>\n",
       "    <tr>\n",
       "      <th>1</th>\n",
       "      <td>New Zealand</td>\n",
       "      <td>High</td>\n",
       "      <td>77541.76438</td>\n",
       "      <td>86.699</td>\n",
       "      <td>348.0</td>\n",
       "      <td>NaN</td>\n",
       "      <td>2.204789</td>\n",
       "      <td>82.256098</td>\n",
       "      <td>7.2</td>\n",
       "      <td>4.354730</td>\n",
       "      <td>...</td>\n",
       "      <td>80.081439</td>\n",
       "      <td>32241.937000</td>\n",
       "      <td>37.570126</td>\n",
       "      <td>6.160799</td>\n",
       "      <td>NaN</td>\n",
       "      <td>19.331586</td>\n",
       "      <td>75.734833</td>\n",
       "      <td>41760.59478</td>\n",
       "      <td>VH</td>\n",
       "      <td>56.7</td>\n",
       "    </tr>\n",
       "    <tr>\n",
       "      <th>2</th>\n",
       "      <td>Ireland</td>\n",
       "      <td>High</td>\n",
       "      <td>198405.87500</td>\n",
       "      <td>63.653</td>\n",
       "      <td>75.0</td>\n",
       "      <td>1.23244</td>\n",
       "      <td>1.029111</td>\n",
       "      <td>82.556098</td>\n",
       "      <td>5.3</td>\n",
       "      <td>5.684596</td>\n",
       "      <td>...</td>\n",
       "      <td>27.965408</td>\n",
       "      <td>15252.824630</td>\n",
       "      <td>11.351720</td>\n",
       "      <td>6.768228</td>\n",
       "      <td>0.274092</td>\n",
       "      <td>72.367281</td>\n",
       "      <td>74.680313</td>\n",
       "      <td>85420.19086</td>\n",
       "      <td>VH</td>\n",
       "      <td>57.4</td>\n",
       "    </tr>\n",
       "    <tr>\n",
       "      <th>3</th>\n",
       "      <td>United States</td>\n",
       "      <td>High</td>\n",
       "      <td>130941.63690</td>\n",
       "      <td>82.664</td>\n",
       "      <td>269586.0</td>\n",
       "      <td>3.42287</td>\n",
       "      <td>0.964348</td>\n",
       "      <td>76.980488</td>\n",
       "      <td>2.3</td>\n",
       "      <td>5.302060</td>\n",
       "      <td>...</td>\n",
       "      <td>13.228593</td>\n",
       "      <td>748241.402900</td>\n",
       "      <td>33.866926</td>\n",
       "      <td>13.032828</td>\n",
       "      <td>3.343170</td>\n",
       "      <td>36.240985</td>\n",
       "      <td>87.567657</td>\n",
       "      <td>63528.63430</td>\n",
       "      <td>VH</td>\n",
       "      <td>51.1</td>\n",
       "    </tr>\n",
       "    <tr>\n",
       "      <th>4</th>\n",
       "      <td>Denmark</td>\n",
       "      <td>High</td>\n",
       "      <td>113300.60110</td>\n",
       "      <td>88.116</td>\n",
       "      <td>1261.0</td>\n",
       "      <td>2.96873</td>\n",
       "      <td>0.291641</td>\n",
       "      <td>81.602439</td>\n",
       "      <td>4.1</td>\n",
       "      <td>6.826140</td>\n",
       "      <td>...</td>\n",
       "      <td>65.505925</td>\n",
       "      <td>7778.773921</td>\n",
       "      <td>15.711000</td>\n",
       "      <td>4.691237</td>\n",
       "      <td>56.914456</td>\n",
       "      <td>145.785100</td>\n",
       "      <td>82.664330</td>\n",
       "      <td>60915.42440</td>\n",
       "      <td>VH</td>\n",
       "      <td>77.9</td>\n",
       "    </tr>\n",
       "  </tbody>\n",
       "</table>\n",
       "<p>5 rows × 22 columns</p>\n",
       "</div>"
      ],
      "text/plain": [
       "         COUNTRY CANRAT        GDPPER  URBPOP    PATRES   RNDGDP    POPGRO  \\\n",
       "0      Australia   High   98380.63601  86.241    2368.0      NaN  1.235701   \n",
       "1    New Zealand   High   77541.76438  86.699     348.0      NaN  2.204789   \n",
       "2        Ireland   High  198405.87500  63.653      75.0  1.23244  1.029111   \n",
       "3  United States   High  130941.63690  82.664  269586.0  3.42287  0.964348   \n",
       "4        Denmark   High  113300.60110  88.116    1261.0  2.96873  0.291641   \n",
       "\n",
       "      LIFEXP  TUBINC    DTHCMD  ...     RELOUT         METEMI     FORARE  \\\n",
       "0  83.200000     7.2  4.941054  ...  13.637841  131484.763200  17.421315   \n",
       "1  82.256098     7.2  4.354730  ...  80.081439   32241.937000  37.570126   \n",
       "2  82.556098     5.3  5.684596  ...  27.965408   15252.824630  11.351720   \n",
       "3  76.980488     2.3  5.302060  ...  13.228593  748241.402900  33.866926   \n",
       "4  81.602439     4.1  6.826140  ...  65.505925    7778.773921  15.711000   \n",
       "\n",
       "      CO2EMI     PM2EXP      POPDEN      ENRTER       GDPCAP  HDICAT  EPISCO  \n",
       "0  14.772658  24.893584    3.335312  110.139221  51722.06900      VH    60.1  \n",
       "1   6.160799        NaN   19.331586   75.734833  41760.59478      VH    56.7  \n",
       "2   6.768228   0.274092   72.367281   74.680313  85420.19086      VH    57.4  \n",
       "3  13.032828   3.343170   36.240985   87.567657  63528.63430      VH    51.1  \n",
       "4   4.691237  56.914456  145.785100   82.664330  60915.42440      VH    77.9  \n",
       "\n",
       "[5 rows x 22 columns]"
      ]
     },
     "execution_count": 23,
     "metadata": {},
     "output_type": "execute_result"
    }
   ],
   "source": [
    "crate_pd = pd.read_csv('./dataset/CategoricalCancerRates.csv')\n",
    "crate_pd.head()"
   ]
  },
  {
   "cell_type": "code",
   "execution_count": 24,
   "id": "852706cc-fe8b-4175-8bee-1de5af01d8a2",
   "metadata": {},
   "outputs": [
    {
     "data": {
      "text/plain": [
       "(177, 22)"
      ]
     },
     "execution_count": 24,
     "metadata": {},
     "output_type": "execute_result"
    }
   ],
   "source": [
    "crate_pd.shape"
   ]
  },
  {
   "cell_type": "code",
   "execution_count": 25,
   "id": "f69cb8b6",
   "metadata": {},
   "outputs": [
    {
     "data": {
      "text/plain": [
       "COUNTRY     object\n",
       "CANRAT      object\n",
       "GDPPER     float64\n",
       "URBPOP     float64\n",
       "PATRES     float64\n",
       "RNDGDP     float64\n",
       "POPGRO     float64\n",
       "LIFEXP     float64\n",
       "TUBINC     float64\n",
       "DTHCMD     float64\n",
       "AGRLND     float64\n",
       "GHGEMI     float64\n",
       "RELOUT     float64\n",
       "METEMI     float64\n",
       "FORARE     float64\n",
       "CO2EMI     float64\n",
       "PM2EXP     float64\n",
       "POPDEN     float64\n",
       "ENRTER     float64\n",
       "GDPCAP     float64\n",
       "HDICAT      object\n",
       "EPISCO     float64\n",
       "dtype: object"
      ]
     },
     "execution_count": 25,
     "metadata": {},
     "output_type": "execute_result"
    }
   ],
   "source": [
    "crate_pd.dtypes"
   ]
  },
  {
   "cell_type": "markdown",
   "id": "8d8d3f5e-7ae3-4edb-b69a-7062c48d293c",
   "metadata": {},
   "source": [
    "**Description :**\n",
    "I have 177 observations and 22 coloumns where COUNTRY is the unique values, HDICAT is categorial variable and our target value is CANRAT"
   ]
  },
  {
   "cell_type": "markdown",
   "id": "0e0bb51d-33bd-43d8-a02e-de429166b073",
   "metadata": {},
   "source": [
    "## 2. Data Preprocessing and Cleaning"
   ]
  },
  {
   "cell_type": "markdown",
   "id": "e4357fa1-b28c-4e09-98b3-745903738f74",
   "metadata": {},
   "source": [
    "### Data Cleaning"
   ]
  },
  {
   "cell_type": "code",
   "execution_count": 26,
   "id": "a358d0ac-6232-4ae5-8e3b-4c000de7253b",
   "metadata": {},
   "outputs": [
    {
     "data": {
      "text/plain": [
       "0"
      ]
     },
     "execution_count": 26,
     "metadata": {},
     "output_type": "execute_result"
    }
   ],
   "source": [
    "# Check duplicated rows\n",
    "crate_pd.duplicated().sum()"
   ]
  },
  {
   "cell_type": "code",
   "execution_count": 27,
   "id": "9bc0bbd6",
   "metadata": {},
   "outputs": [
    {
     "data": {
      "text/html": [
       "<div>\n",
       "<style scoped>\n",
       "    .dataframe tbody tr th:only-of-type {\n",
       "        vertical-align: middle;\n",
       "    }\n",
       "\n",
       "    .dataframe tbody tr th {\n",
       "        vertical-align: top;\n",
       "    }\n",
       "\n",
       "    .dataframe thead th {\n",
       "        text-align: right;\n",
       "    }\n",
       "</style>\n",
       "<table border=\"1\" class=\"dataframe\">\n",
       "  <thead>\n",
       "    <tr style=\"text-align: right;\">\n",
       "      <th></th>\n",
       "      <th>Column.Name</th>\n",
       "      <th>Column.Type</th>\n",
       "      <th>Row.Count</th>\n",
       "      <th>Non.Null.Count</th>\n",
       "      <th>Null.Count</th>\n",
       "      <th>Fill.Rate</th>\n",
       "    </tr>\n",
       "  </thead>\n",
       "  <tbody>\n",
       "    <tr>\n",
       "      <th>5</th>\n",
       "      <td>RNDGDP</td>\n",
       "      <td>float64</td>\n",
       "      <td>177</td>\n",
       "      <td>74</td>\n",
       "      <td>103</td>\n",
       "      <td>0.418079</td>\n",
       "    </tr>\n",
       "    <tr>\n",
       "      <th>4</th>\n",
       "      <td>PATRES</td>\n",
       "      <td>float64</td>\n",
       "      <td>177</td>\n",
       "      <td>108</td>\n",
       "      <td>69</td>\n",
       "      <td>0.610169</td>\n",
       "    </tr>\n",
       "    <tr>\n",
       "      <th>18</th>\n",
       "      <td>ENRTER</td>\n",
       "      <td>float64</td>\n",
       "      <td>177</td>\n",
       "      <td>116</td>\n",
       "      <td>61</td>\n",
       "      <td>0.655367</td>\n",
       "    </tr>\n",
       "    <tr>\n",
       "      <th>12</th>\n",
       "      <td>RELOUT</td>\n",
       "      <td>float64</td>\n",
       "      <td>177</td>\n",
       "      <td>153</td>\n",
       "      <td>24</td>\n",
       "      <td>0.864407</td>\n",
       "    </tr>\n",
       "    <tr>\n",
       "      <th>21</th>\n",
       "      <td>EPISCO</td>\n",
       "      <td>float64</td>\n",
       "      <td>177</td>\n",
       "      <td>165</td>\n",
       "      <td>12</td>\n",
       "      <td>0.932203</td>\n",
       "    </tr>\n",
       "    <tr>\n",
       "      <th>2</th>\n",
       "      <td>GDPPER</td>\n",
       "      <td>float64</td>\n",
       "      <td>177</td>\n",
       "      <td>165</td>\n",
       "      <td>12</td>\n",
       "      <td>0.932203</td>\n",
       "    </tr>\n",
       "    <tr>\n",
       "      <th>16</th>\n",
       "      <td>PM2EXP</td>\n",
       "      <td>float64</td>\n",
       "      <td>177</td>\n",
       "      <td>167</td>\n",
       "      <td>10</td>\n",
       "      <td>0.943503</td>\n",
       "    </tr>\n",
       "    <tr>\n",
       "      <th>20</th>\n",
       "      <td>HDICAT</td>\n",
       "      <td>object</td>\n",
       "      <td>177</td>\n",
       "      <td>167</td>\n",
       "      <td>10</td>\n",
       "      <td>0.943503</td>\n",
       "    </tr>\n",
       "    <tr>\n",
       "      <th>15</th>\n",
       "      <td>CO2EMI</td>\n",
       "      <td>float64</td>\n",
       "      <td>177</td>\n",
       "      <td>170</td>\n",
       "      <td>7</td>\n",
       "      <td>0.960452</td>\n",
       "    </tr>\n",
       "    <tr>\n",
       "      <th>13</th>\n",
       "      <td>METEMI</td>\n",
       "      <td>float64</td>\n",
       "      <td>177</td>\n",
       "      <td>170</td>\n",
       "      <td>7</td>\n",
       "      <td>0.960452</td>\n",
       "    </tr>\n",
       "    <tr>\n",
       "      <th>11</th>\n",
       "      <td>GHGEMI</td>\n",
       "      <td>float64</td>\n",
       "      <td>177</td>\n",
       "      <td>170</td>\n",
       "      <td>7</td>\n",
       "      <td>0.960452</td>\n",
       "    </tr>\n",
       "    <tr>\n",
       "      <th>9</th>\n",
       "      <td>DTHCMD</td>\n",
       "      <td>float64</td>\n",
       "      <td>177</td>\n",
       "      <td>170</td>\n",
       "      <td>7</td>\n",
       "      <td>0.960452</td>\n",
       "    </tr>\n",
       "    <tr>\n",
       "      <th>19</th>\n",
       "      <td>GDPCAP</td>\n",
       "      <td>float64</td>\n",
       "      <td>177</td>\n",
       "      <td>170</td>\n",
       "      <td>7</td>\n",
       "      <td>0.960452</td>\n",
       "    </tr>\n",
       "    <tr>\n",
       "      <th>14</th>\n",
       "      <td>FORARE</td>\n",
       "      <td>float64</td>\n",
       "      <td>177</td>\n",
       "      <td>173</td>\n",
       "      <td>4</td>\n",
       "      <td>0.977401</td>\n",
       "    </tr>\n",
       "    <tr>\n",
       "      <th>6</th>\n",
       "      <td>POPGRO</td>\n",
       "      <td>float64</td>\n",
       "      <td>177</td>\n",
       "      <td>174</td>\n",
       "      <td>3</td>\n",
       "      <td>0.983051</td>\n",
       "    </tr>\n",
       "    <tr>\n",
       "      <th>3</th>\n",
       "      <td>URBPOP</td>\n",
       "      <td>float64</td>\n",
       "      <td>177</td>\n",
       "      <td>174</td>\n",
       "      <td>3</td>\n",
       "      <td>0.983051</td>\n",
       "    </tr>\n",
       "    <tr>\n",
       "      <th>17</th>\n",
       "      <td>POPDEN</td>\n",
       "      <td>float64</td>\n",
       "      <td>177</td>\n",
       "      <td>174</td>\n",
       "      <td>3</td>\n",
       "      <td>0.983051</td>\n",
       "    </tr>\n",
       "    <tr>\n",
       "      <th>10</th>\n",
       "      <td>AGRLND</td>\n",
       "      <td>float64</td>\n",
       "      <td>177</td>\n",
       "      <td>174</td>\n",
       "      <td>3</td>\n",
       "      <td>0.983051</td>\n",
       "    </tr>\n",
       "    <tr>\n",
       "      <th>7</th>\n",
       "      <td>LIFEXP</td>\n",
       "      <td>float64</td>\n",
       "      <td>177</td>\n",
       "      <td>174</td>\n",
       "      <td>3</td>\n",
       "      <td>0.983051</td>\n",
       "    </tr>\n",
       "    <tr>\n",
       "      <th>8</th>\n",
       "      <td>TUBINC</td>\n",
       "      <td>float64</td>\n",
       "      <td>177</td>\n",
       "      <td>174</td>\n",
       "      <td>3</td>\n",
       "      <td>0.983051</td>\n",
       "    </tr>\n",
       "  </tbody>\n",
       "</table>\n",
       "</div>"
      ],
      "text/plain": [
       "   Column.Name Column.Type  Row.Count  Non.Null.Count  Null.Count  Fill.Rate\n",
       "5       RNDGDP     float64        177              74         103   0.418079\n",
       "4       PATRES     float64        177             108          69   0.610169\n",
       "18      ENRTER     float64        177             116          61   0.655367\n",
       "12      RELOUT     float64        177             153          24   0.864407\n",
       "21      EPISCO     float64        177             165          12   0.932203\n",
       "2       GDPPER     float64        177             165          12   0.932203\n",
       "16      PM2EXP     float64        177             167          10   0.943503\n",
       "20      HDICAT      object        177             167          10   0.943503\n",
       "15      CO2EMI     float64        177             170           7   0.960452\n",
       "13      METEMI     float64        177             170           7   0.960452\n",
       "11      GHGEMI     float64        177             170           7   0.960452\n",
       "9       DTHCMD     float64        177             170           7   0.960452\n",
       "19      GDPCAP     float64        177             170           7   0.960452\n",
       "14      FORARE     float64        177             173           4   0.977401\n",
       "6       POPGRO     float64        177             174           3   0.983051\n",
       "3       URBPOP     float64        177             174           3   0.983051\n",
       "17      POPDEN     float64        177             174           3   0.983051\n",
       "10      AGRLND     float64        177             174           3   0.983051\n",
       "7       LIFEXP     float64        177             174           3   0.983051\n",
       "8       TUBINC     float64        177             174           3   0.983051"
      ]
     },
     "metadata": {},
     "output_type": "display_data"
    }
   ],
   "source": [
    "data_type_list = list(crate_pd.dtypes)\n",
    "variable_name_list = list(crate_pd.columns)\n",
    "row_count_list = list([len(crate_pd)] * len(crate_pd.columns))\n",
    "null_count_list = list(crate_pd.isna().sum(axis=0))\n",
    "non_null_count_list = list(crate_pd.count())\n",
    "fill_rate_list = map(truediv, non_null_count_list, row_count_list)\n",
    "all_column_quality_summary = pd.DataFrame(zip(variable_name_list,\n",
    "                                              data_type_list,\n",
    "                                              row_count_list,\n",
    "                                              non_null_count_list,\n",
    "                                              null_count_list,\n",
    "                                              fill_rate_list), \n",
    "                                        columns=['Column.Name',\n",
    "                                                 'Column.Type',\n",
    "                                                 'Row.Count',\n",
    "                                                 'Non.Null.Count',\n",
    "                                                 'Null.Count',                                                 \n",
    "                                                 'Fill.Rate'])\n",
    "display(all_column_quality_summary[(all_column_quality_summary['Fill.Rate']<1)].sort_values(by=['Fill.Rate'], ascending=True))"
   ]
  },
  {
   "cell_type": "code",
   "execution_count": 28,
   "id": "fae7d6c0-36d4-4f02-b00d-b8c7b4c15e71",
   "metadata": {},
   "outputs": [
    {
     "data": {
      "text/plain": [
       "20"
      ]
     },
     "execution_count": 28,
     "metadata": {},
     "output_type": "execute_result"
    }
   ],
   "source": [
    "len(all_column_quality_summary[(all_column_quality_summary['Fill.Rate']<1)])"
   ]
  },
  {
   "cell_type": "markdown",
   "id": "1061c7f4-78a1-4685-ae94-8f3c46848160",
   "metadata": {},
   "source": [
    "**Descriptions :** Based on this table, there are missing data for 20 variables where  of them, 'RNDGDP', 'PATRES', 'ENRTER', and 'RELOUT' with fill rate <0.9. So I decided to drop the coloumns from here onwards."
   ]
  },
  {
   "cell_type": "code",
   "execution_count": 29,
   "id": "fa6b573c-4e2a-4f7a-be25-d0c3dc090292",
   "metadata": {},
   "outputs": [
    {
     "data": {
      "text/plain": [
       "(177, 18)"
      ]
     },
     "execution_count": 29,
     "metadata": {},
     "output_type": "execute_result"
    }
   ],
   "source": [
    "column_low_fill_rate = all_column_quality_summary[(all_column_quality_summary['Fill.Rate']<0.90)]\n",
    "crate_pd = crate_pd.drop(column_low_fill_rate['Column.Name'].values.tolist(), axis=1)\n",
    "crate_pd.shape"
   ]
  },
  {
   "cell_type": "code",
   "execution_count": 30,
   "id": "7794b540-7f17-4cbe-956b-3fe79e37e23b",
   "metadata": {},
   "outputs": [
    {
     "data": {
      "text/plain": [
       "EPISCO     12\n",
       "GDPPER     12\n",
       "PM2EXP     10\n",
       "HDICAT     10\n",
       "CO2EMI      7\n",
       "DTHCMD      7\n",
       "METEMI      7\n",
       "GDPCAP      7\n",
       "GHGEMI      7\n",
       "FORARE      4\n",
       "URBPOP      3\n",
       "TUBINC      3\n",
       "AGRLND      3\n",
       "LIFEXP      3\n",
       "POPGRO      3\n",
       "POPDEN      3\n",
       "CANRAT      0\n",
       "COUNTRY     0\n",
       "dtype: int64"
      ]
     },
     "execution_count": 30,
     "metadata": {},
     "output_type": "execute_result"
    }
   ],
   "source": [
    "crate_pd.isnull().sum().sort_values(ascending=False)"
   ]
  },
  {
   "cell_type": "markdown",
   "id": "ded1a56d-bcc0-42b0-9a05-74c048860cc4",
   "metadata": {},
   "source": [
    "I decided to just drop the lines that have missing values"
   ]
  },
  {
   "cell_type": "code",
   "execution_count": 31,
   "id": "273940e5-9312-4bc2-a0ba-24c3c0668e94",
   "metadata": {},
   "outputs": [
    {
     "data": {
      "text/plain": [
       "(155, 18)"
      ]
     },
     "execution_count": 31,
     "metadata": {},
     "output_type": "execute_result"
    }
   ],
   "source": [
    "crate_pd = crate_pd.dropna()\n",
    "crate_pd.shape"
   ]
  },
  {
   "cell_type": "markdown",
   "id": "f803dd0c-7c6d-4758-a934-3609f293e0e2",
   "metadata": {},
   "source": [
    "### Centering and Scaling"
   ]
  },
  {
   "cell_type": "code",
   "execution_count": 32,
   "id": "1ecdb69c-7b55-4442-a776-ac039dd10648",
   "metadata": {},
   "outputs": [],
   "source": [
    "crate_npd = crate_pd.select_dtypes(include='number')\n",
    "standardization_scaler = StandardScaler()\n",
    "crate_npd =pd.DataFrame(standardization_scaler.fit_transform(crate_npd), columns = crate_npd.columns)"
   ]
  },
  {
   "cell_type": "markdown",
   "id": "2fa0958e-0bfd-4192-87d7-a19447e1f689",
   "metadata": {},
   "source": [
    "### Data Encoding"
   ]
  },
  {
   "cell_type": "code",
   "execution_count": 33,
   "id": "661cb907-5c0d-48ad-baaa-43f7a4377d1a",
   "metadata": {},
   "outputs": [],
   "source": [
    "crate_cpd = crate_pd.select_dtypes(include=object)\n",
    "crate_cpd = pd.DataFrame(crate_cpd.loc[:, 'HDICAT'].to_list(), columns=['HDICAT'])\n",
    "crate_cpd = pd.get_dummies(crate_cpd, columns=['HDICAT'])"
   ]
  },
  {
   "cell_type": "markdown",
   "id": "ee029a66-c027-4830-8553-71b1b82e932a",
   "metadata": {},
   "source": [
    "### Preprocessed Data Description"
   ]
  },
  {
   "cell_type": "code",
   "execution_count": 34,
   "id": "18e9fcd0-450a-4a3f-9bd0-fe38749fdd5d",
   "metadata": {},
   "outputs": [
    {
     "data": {
      "text/plain": [
       "(155, 19)"
      ]
     },
     "execution_count": 34,
     "metadata": {},
     "output_type": "execute_result"
    }
   ],
   "source": [
    "crate_dpd = pd.concat([crate_npd, crate_cpd], axis=1, join='inner')\n",
    "crate_dpd.shape"
   ]
  },
  {
   "cell_type": "code",
   "execution_count": 35,
   "id": "03be406f-d8f9-40b2-85c9-0c974fcdc0c1",
   "metadata": {},
   "outputs": [
    {
     "name": "stdout",
     "output_type": "stream",
     "text": [
      "<class 'pandas.core.frame.DataFrame'>\n",
      "Index: 136 entries, 0 to 154\n",
      "Data columns (total 20 columns):\n",
      " #   Column     Non-Null Count  Dtype  \n",
      "---  ------     --------------  -----  \n",
      " 0   GDPPER     136 non-null    float64\n",
      " 1   URBPOP     136 non-null    float64\n",
      " 2   POPGRO     136 non-null    float64\n",
      " 3   LIFEXP     136 non-null    float64\n",
      " 4   TUBINC     136 non-null    float64\n",
      " 5   DTHCMD     136 non-null    float64\n",
      " 6   AGRLND     136 non-null    float64\n",
      " 7   GHGEMI     136 non-null    float64\n",
      " 8   METEMI     136 non-null    float64\n",
      " 9   FORARE     136 non-null    float64\n",
      " 10  CO2EMI     136 non-null    float64\n",
      " 11  PM2EXP     136 non-null    float64\n",
      " 12  POPDEN     136 non-null    float64\n",
      " 13  GDPCAP     136 non-null    float64\n",
      " 14  EPISCO     136 non-null    float64\n",
      " 15  HDICAT_H   136 non-null    bool   \n",
      " 16  HDICAT_L   136 non-null    bool   \n",
      " 17  HDICAT_M   136 non-null    bool   \n",
      " 18  HDICAT_VH  136 non-null    bool   \n",
      " 19  CANRAT     136 non-null    object \n",
      "dtypes: bool(4), float64(15), object(1)\n",
      "memory usage: 18.6+ KB\n"
     ]
    }
   ],
   "source": [
    "crate = pd.concat([crate_dpd, crate_pd['CANRAT']], axis=1, join='inner')\n",
    "crate.info()"
   ]
  },
  {
   "cell_type": "markdown",
   "id": "a5e0225a-7a64-4878-9e98-eb11ccddb0eb",
   "metadata": {},
   "source": [
    "## 3.Explatory Data Analysis (EDA)"
   ]
  },
  {
   "cell_type": "code",
   "execution_count": 36,
   "id": "a8a2bba1-c138-483b-a66d-7fcbbe131cb3",
   "metadata": {},
   "outputs": [
    {
     "data": {
      "image/png": "[encoded data removed]",
      "text/plain": [
       "<Figure size 1500x2000 with 20 Axes>"
      ]
     },
     "metadata": {},
     "output_type": "display_data"
    }
   ],
   "source": [
    "x_variables = crate_dpd.columns\n",
    "y_variable = 'CANRAT'\n",
    "\n",
    "num_rows = 5\n",
    "num_cols = 4\n",
    "\n",
    "fig, axes = plt.subplots(num_rows, num_cols, figsize=(15, 20))\n",
    "\n",
    "axes = axes.ravel()\n",
    "\n",
    "for i, x_variable in enumerate(x_variables):\n",
    "    ax = axes[i]\n",
    "    sns.boxplot(x=y_variable, y=x_variable, data=crate, ax=ax)\n",
    "    ax.set_title(f'{y_variable} Ve {x_variable}')\n",
    "    ax.set_xlabel(y_variable)\n",
    "    ax.set_ylabel(x_variable)\n",
    "    \n",
    "    # Set tick locations and labels explicitly\n",
    "    unique_labels = sorted(crate[y_variable].unique())\n",
    "    ax.set_xticks(range(len(unique_labels)))\n",
    "    ax.set_xticklabels(['High', 'Low'])\n",
    "\n",
    "plt.tight_layout()\n",
    "plt.show()"
   ]
  },
  {
   "cell_type": "markdown",
   "id": "11f69127-ac94-4b8e-8de7-7e9800546a20",
   "metadata": {},
   "source": [
    "**Bivariante analysis:**\n",
    "We noticed that the Cancer Rates(CANRAT) is high when:\n",
    "Higher GDPCAP and GDPPER, Higher economic growth lead to advanced industrialization could potentially increase the risk\n",
    "Higher URBPOP, the higher the urban population may have relationship with higher econic growth\n",
    "Higher LIFEXP, The higher the life expectancy could lead to higher cancer’s risk because the older have more risk of cancer due to lower immune system.\n",
    "Higher Episco, higher environment performance index could not be an indicator of higher cancer’s risk however, it may be due to in big city where there are environmental regulations in place.\n",
    "\n"
   ]
  },
  {
   "cell_type": "markdown",
   "id": "021e2918-a2d3-403f-becd-b6104c210c48",
   "metadata": {},
   "source": [
    "### 3. Model Selection and Training"
   ]
  },
  {
   "cell_type": "code",
   "execution_count": 51,
   "id": "d08ddef1-5a66-453f-bd96-379aa05fcc67",
   "metadata": {},
   "outputs": [],
   "source": [
    "category_mapping = {'High': 1, 'Low': 0}\n",
    "target = crate_pd['CANRAT'].map(category_mapping)\n",
    "X_train, X_test, y_train, y_test = train_test_split(crate_dpd, target, test_size = 0.3, random_state= 600, stratify=target)"
   ]
  },
  {
   "cell_type": "code",
   "execution_count": 69,
   "id": "5bc594a5-f6dc-48f0-829b-dbe2f6719c64",
   "metadata": {},
   "outputs": [
    {
     "data": {
      "text/plain": [
       "CANRAT\n",
       "0    0.765957\n",
       "1    0.234043\n",
       "Name: proportion, dtype: float64"
      ]
     },
     "execution_count": 69,
     "metadata": {},
     "output_type": "execute_result"
    }
   ],
   "source": [
    "y_test.value_counts(normalize = True)"
   ]
  },
  {
   "cell_type": "markdown",
   "id": "99a69cce-d363-40ca-aa7a-a1affd41adca",
   "metadata": {},
   "source": [
    "**Imbalanced data** :The data is highly imbalanced with the porpotion of almost 3:1"
   ]
  },
  {
   "cell_type": "code",
   "execution_count": 52,
   "id": "2d2ee9ec-61a6-499d-b2a4-a7fd0a1e5804",
   "metadata": {},
   "outputs": [],
   "source": [
    "def model_performance_evaluation(y_true, y_pred):\n",
    "    metric_name = ['Accuracy','Precision','Recall','F1','AUROC']\n",
    "    metric_value = [accuracy_score(y_true, y_pred),\n",
    "                   precision_score(y_true, y_pred),\n",
    "                   recall_score(y_true, y_pred),\n",
    "                   f1_score(y_true, y_pred),\n",
    "                   roc_auc_score(y_true, y_pred)]    \n",
    "    metric_summary = pd.DataFrame(zip(metric_name, metric_value),\n",
    "                                  columns=['metric_name','metric_value']) \n",
    "    return(metric_summary)"
   ]
  },
  {
   "cell_type": "markdown",
   "id": "ac8aa570-8bdc-470d-a1ba-ec84ea423d07",
   "metadata": {},
   "source": [
    "#### Logistic Regression"
   ]
  },
  {
   "cell_type": "code",
   "execution_count": 53,
   "id": "b2473496-afc2-4ba5-bddc-cf73eb750d65",
   "metadata": {},
   "outputs": [
    {
     "name": "stderr",
     "output_type": "stream",
     "text": [
      "/home/mobilis/.local/lib/python3.10/site-packages/sklearn/linear_model/_sag.py:350: ConvergenceWarning: The max_iter was reached which means the coef_ did not converge\n",
      "  warnings.warn(\n",
      "/home/mobilis/.local/lib/python3.10/site-packages/sklearn/linear_model/_sag.py:350: ConvergenceWarning: The max_iter was reached which means the coef_ did not converge\n",
      "  warnings.warn(\n",
      "/home/mobilis/.local/lib/python3.10/site-packages/sklearn/linear_model/_sag.py:350: ConvergenceWarning: The max_iter was reached which means the coef_ did not converge\n",
      "  warnings.warn(\n",
      "/home/mobilis/.local/lib/python3.10/site-packages/sklearn/linear_model/_sag.py:350: ConvergenceWarning: The max_iter was reached which means the coef_ did not converge\n",
      "  warnings.warn(\n",
      "/home/mobilis/.local/lib/python3.10/site-packages/sklearn/linear_model/_sag.py:350: ConvergenceWarning: The max_iter was reached which means the coef_ did not converge\n",
      "  warnings.warn(\n",
      "/home/mobilis/.local/lib/python3.10/site-packages/sklearn/linear_model/_sag.py:350: ConvergenceWarning: The max_iter was reached which means the coef_ did not converge\n",
      "  warnings.warn(\n",
      "/home/mobilis/.local/lib/python3.10/site-packages/sklearn/linear_model/_sag.py:350: ConvergenceWarning: The max_iter was reached which means the coef_ did not converge\n",
      "  warnings.warn(\n",
      "/home/mobilis/.local/lib/python3.10/site-packages/sklearn/linear_model/_sag.py:350: ConvergenceWarning: The max_iter was reached which means the coef_ did not converge\n",
      "  warnings.warn(\n",
      "/home/mobilis/.local/lib/python3.10/site-packages/sklearn/linear_model/_sag.py:350: ConvergenceWarning: The max_iter was reached which means the coef_ did not converge\n",
      "  warnings.warn(\n",
      "/home/mobilis/.local/lib/python3.10/site-packages/sklearn/linear_model/_sag.py:350: ConvergenceWarning: The max_iter was reached which means the coef_ did not converge\n",
      "  warnings.warn(\n"
     ]
    },
    {
     "data": {
      "text/plain": [
       "{'C': 1.0,\n",
       " 'class_weight': None,\n",
       " 'max_iter': 100,\n",
       " 'penalty': 'l2',\n",
       " 'random_state': 600,\n",
       " 'solver': 'liblinear'}"
      ]
     },
     "execution_count": 53,
     "metadata": {},
     "output_type": "execute_result"
    }
   ],
   "source": [
    "lr = LogisticRegression()\n",
    "\n",
    "grid = {\n",
    "    'C': [1.0],\n",
    "    'penalty': ['l1', 'l2'],\n",
    "    'solver': ['liblinear','saga'],\n",
    "    'class_weight': [None],\n",
    "    'max_iter': [100],\n",
    "    'random_state': [600]}\n",
    "\n",
    "\n",
    "olr = GridSearchCV(estimator = lr, param_grid = grid, scoring='f1')\n",
    "\n",
    "olr.fit(X_train, y_train)\n",
    "\n",
    "olr.best_score_ \n",
    "olr.best_params_"
   ]
  },
  {
   "cell_type": "code",
   "execution_count": 57,
   "id": "585d9718-15d1-49ca-9df4-c29ec9e1679c",
   "metadata": {},
   "outputs": [],
   "source": [
    "y_hat = olr.predict(X_train)\n",
    "olr_performance_train = model_performance_evaluation(y_train, y_hat) "
   ]
  },
  {
   "cell_type": "code",
   "execution_count": 59,
   "id": "708ac1b5-f7be-4095-b557-12f9c6c1e284",
   "metadata": {},
   "outputs": [],
   "source": [
    "y_pred = olr.predict(X_test)\n",
    "olr_performance_test = model_performance_evaluation(y_test, y_pred) "
   ]
  },
  {
   "cell_type": "code",
   "execution_count": 60,
   "id": "e120d37d-ee28-4d47-96c7-e570f7d1e970",
   "metadata": {},
   "outputs": [
    {
     "data": {
      "text/html": [
       "<div>\n",
       "<style scoped>\n",
       "    .dataframe tbody tr th:only-of-type {\n",
       "        vertical-align: middle;\n",
       "    }\n",
       "\n",
       "    .dataframe tbody tr th {\n",
       "        vertical-align: top;\n",
       "    }\n",
       "\n",
       "    .dataframe thead th {\n",
       "        text-align: right;\n",
       "    }\n",
       "</style>\n",
       "<table border=\"1\" class=\"dataframe\">\n",
       "  <thead>\n",
       "    <tr style=\"text-align: right;\">\n",
       "      <th></th>\n",
       "      <th>metric_name</th>\n",
       "      <th>metric_value</th>\n",
       "    </tr>\n",
       "  </thead>\n",
       "  <tbody>\n",
       "    <tr>\n",
       "      <th>0</th>\n",
       "      <td>Accuracy</td>\n",
       "      <td>0.962963</td>\n",
       "    </tr>\n",
       "    <tr>\n",
       "      <th>1</th>\n",
       "      <td>Precision</td>\n",
       "      <td>0.956522</td>\n",
       "    </tr>\n",
       "    <tr>\n",
       "      <th>2</th>\n",
       "      <td>Recall</td>\n",
       "      <td>0.880000</td>\n",
       "    </tr>\n",
       "    <tr>\n",
       "      <th>3</th>\n",
       "      <td>F1</td>\n",
       "      <td>0.916667</td>\n",
       "    </tr>\n",
       "    <tr>\n",
       "      <th>4</th>\n",
       "      <td>AUROC</td>\n",
       "      <td>0.933976</td>\n",
       "    </tr>\n",
       "  </tbody>\n",
       "</table>\n",
       "</div>"
      ],
      "text/plain": [
       "  metric_name  metric_value\n",
       "0    Accuracy      0.962963\n",
       "1   Precision      0.956522\n",
       "2      Recall      0.880000\n",
       "3          F1      0.916667\n",
       "4       AUROC      0.933976"
      ]
     },
     "metadata": {},
     "output_type": "display_data"
    },
    {
     "name": "stdout",
     "output_type": "stream",
     "text": [
      "The history saving thread hit an unexpected error (OperationalError('attempt to write a readonly database')).History will not be written to the database.\n"
     ]
    }
   ],
   "source": [
    "display(olr_performance_train)"
   ]
  },
  {
   "cell_type": "code",
   "execution_count": 61,
   "id": "69cc6a7b-bb02-464b-b98a-5d5f1d70b414",
   "metadata": {},
   "outputs": [
    {
     "data": {
      "text/html": [
       "<div>\n",
       "<style scoped>\n",
       "    .dataframe tbody tr th:only-of-type {\n",
       "        vertical-align: middle;\n",
       "    }\n",
       "\n",
       "    .dataframe tbody tr th {\n",
       "        vertical-align: top;\n",
       "    }\n",
       "\n",
       "    .dataframe thead th {\n",
       "        text-align: right;\n",
       "    }\n",
       "</style>\n",
       "<table border=\"1\" class=\"dataframe\">\n",
       "  <thead>\n",
       "    <tr style=\"text-align: right;\">\n",
       "      <th></th>\n",
       "      <th>metric_name</th>\n",
       "      <th>metric_value</th>\n",
       "    </tr>\n",
       "  </thead>\n",
       "  <tbody>\n",
       "    <tr>\n",
       "      <th>0</th>\n",
       "      <td>Accuracy</td>\n",
       "      <td>0.957447</td>\n",
       "    </tr>\n",
       "    <tr>\n",
       "      <th>1</th>\n",
       "      <td>Precision</td>\n",
       "      <td>0.909091</td>\n",
       "    </tr>\n",
       "    <tr>\n",
       "      <th>2</th>\n",
       "      <td>Recall</td>\n",
       "      <td>0.909091</td>\n",
       "    </tr>\n",
       "    <tr>\n",
       "      <th>3</th>\n",
       "      <td>F1</td>\n",
       "      <td>0.909091</td>\n",
       "    </tr>\n",
       "    <tr>\n",
       "      <th>4</th>\n",
       "      <td>AUROC</td>\n",
       "      <td>0.940657</td>\n",
       "    </tr>\n",
       "  </tbody>\n",
       "</table>\n",
       "</div>"
      ],
      "text/plain": [
       "  metric_name  metric_value\n",
       "0    Accuracy      0.957447\n",
       "1   Precision      0.909091\n",
       "2      Recall      0.909091\n",
       "3          F1      0.909091\n",
       "4       AUROC      0.940657"
      ]
     },
     "metadata": {},
     "output_type": "display_data"
    }
   ],
   "source": [
    "display(olr_performance_test)"
   ]
  },
  {
   "cell_type": "markdown",
   "id": "6ae1a607-3692-490f-8a9f-f042383a4c4d",
   "metadata": {},
   "source": [
    "**Discussion:**\n",
    "We can observe that the model works well on both training and test data."
   ]
  },
  {
   "cell_type": "markdown",
   "id": "f6b92b86-bb09-463d-b18e-26b838285a46",
   "metadata": {},
   "source": [
    "### Random Forest"
   ]
  },
  {
   "cell_type": "code",
   "execution_count": 63,
   "id": "956fca30-1bed-44ea-8029-fd1914a1c1c3",
   "metadata": {},
   "outputs": [
    {
     "data": {
      "text/plain": [
       "{'criterion': 'gini',\n",
       " 'max_depth': 3,\n",
       " 'max_features': 'sqrt',\n",
       " 'min_samples_leaf': 3,\n",
       " 'n_estimators': 100,\n",
       " 'random_state': 600}"
      ]
     },
     "execution_count": 63,
     "metadata": {},
     "output_type": "execute_result"
    }
   ],
   "source": [
    "rf = RandomForestClassifier()\n",
    "\n",
    "grid = {\n",
    "    'criterion': ['gini','entropy','log_loss'],\n",
    "    'max_depth': [3,5,7],\n",
    "    'min_samples_leaf': [3,5,10],\n",
    "    'n_estimators': [100,150,200],\n",
    "    'max_features':['sqrt', 'log2'],\n",
    "    'random_state': [600]}\n",
    "\n",
    "\n",
    "orf = GridSearchCV(estimator = rf, param_grid = grid, scoring='f1')\n",
    "\n",
    "orf.fit(X_train, y_train)\n",
    "\n",
    "orf.best_score_ \n",
    "orf.best_params_"
   ]
  },
  {
   "cell_type": "code",
   "execution_count": 70,
   "id": "1af9229b-8ad4-4ec8-8b6c-be2bad477c71",
   "metadata": {},
   "outputs": [
    {
     "data": {
      "text/html": [
       "<div>\n",
       "<style scoped>\n",
       "    .dataframe tbody tr th:only-of-type {\n",
       "        vertical-align: middle;\n",
       "    }\n",
       "\n",
       "    .dataframe tbody tr th {\n",
       "        vertical-align: top;\n",
       "    }\n",
       "\n",
       "    .dataframe thead th {\n",
       "        text-align: right;\n",
       "    }\n",
       "</style>\n",
       "<table border=\"1\" class=\"dataframe\">\n",
       "  <thead>\n",
       "    <tr style=\"text-align: right;\">\n",
       "      <th></th>\n",
       "      <th>metric_name</th>\n",
       "      <th>metric_value</th>\n",
       "    </tr>\n",
       "  </thead>\n",
       "  <tbody>\n",
       "    <tr>\n",
       "      <th>0</th>\n",
       "      <td>Accuracy</td>\n",
       "      <td>0.962963</td>\n",
       "    </tr>\n",
       "    <tr>\n",
       "      <th>1</th>\n",
       "      <td>Precision</td>\n",
       "      <td>0.956522</td>\n",
       "    </tr>\n",
       "    <tr>\n",
       "      <th>2</th>\n",
       "      <td>Recall</td>\n",
       "      <td>0.880000</td>\n",
       "    </tr>\n",
       "    <tr>\n",
       "      <th>3</th>\n",
       "      <td>F1</td>\n",
       "      <td>0.916667</td>\n",
       "    </tr>\n",
       "    <tr>\n",
       "      <th>4</th>\n",
       "      <td>AUROC</td>\n",
       "      <td>0.933976</td>\n",
       "    </tr>\n",
       "  </tbody>\n",
       "</table>\n",
       "</div>"
      ],
      "text/plain": [
       "  metric_name  metric_value\n",
       "0    Accuracy      0.962963\n",
       "1   Precision      0.956522\n",
       "2      Recall      0.880000\n",
       "3          F1      0.916667\n",
       "4       AUROC      0.933976"
      ]
     },
     "metadata": {},
     "output_type": "display_data"
    },
    {
     "data": {
      "text/html": [
       "<div>\n",
       "<style scoped>\n",
       "    .dataframe tbody tr th:only-of-type {\n",
       "        vertical-align: middle;\n",
       "    }\n",
       "\n",
       "    .dataframe tbody tr th {\n",
       "        vertical-align: top;\n",
       "    }\n",
       "\n",
       "    .dataframe thead th {\n",
       "        text-align: right;\n",
       "    }\n",
       "</style>\n",
       "<table border=\"1\" class=\"dataframe\">\n",
       "  <thead>\n",
       "    <tr style=\"text-align: right;\">\n",
       "      <th></th>\n",
       "      <th>metric_name</th>\n",
       "      <th>metric_value</th>\n",
       "    </tr>\n",
       "  </thead>\n",
       "  <tbody>\n",
       "    <tr>\n",
       "      <th>0</th>\n",
       "      <td>Accuracy</td>\n",
       "      <td>0.914894</td>\n",
       "    </tr>\n",
       "    <tr>\n",
       "      <th>1</th>\n",
       "      <td>Precision</td>\n",
       "      <td>0.888889</td>\n",
       "    </tr>\n",
       "    <tr>\n",
       "      <th>2</th>\n",
       "      <td>Recall</td>\n",
       "      <td>0.727273</td>\n",
       "    </tr>\n",
       "    <tr>\n",
       "      <th>3</th>\n",
       "      <td>F1</td>\n",
       "      <td>0.800000</td>\n",
       "    </tr>\n",
       "    <tr>\n",
       "      <th>4</th>\n",
       "      <td>AUROC</td>\n",
       "      <td>0.849747</td>\n",
       "    </tr>\n",
       "  </tbody>\n",
       "</table>\n",
       "</div>"
      ],
      "text/plain": [
       "  metric_name  metric_value\n",
       "0    Accuracy      0.914894\n",
       "1   Precision      0.888889\n",
       "2      Recall      0.727273\n",
       "3          F1      0.800000\n",
       "4       AUROC      0.849747"
      ]
     },
     "metadata": {},
     "output_type": "display_data"
    }
   ],
   "source": [
    "y_hat = orf.predict(X_train)\n",
    "orf_performance_train = model_performance_evaluation(y_train, y_hat) \n",
    "y_pred = orf.predict(X_test)\n",
    "orf_performance_test = model_performance_evaluation(y_test, y_pred)\n",
    "display(orf_performance_train)\n",
    "display(orf_performance_test)"
   ]
  },
  {
   "cell_type": "markdown",
   "id": "765abdda-befe-4f83-a940-7f8ae7722253",
   "metadata": {},
   "source": [
    "**Discussion:**\n",
    "We can observe the model is overfiting as the model does not really well on test data."
   ]
  },
  {
   "cell_type": "markdown",
   "id": "0852b192-147e-40ba-a4a6-5345f5828134",
   "metadata": {},
   "source": [
    "### Support Vector Machine"
   ]
  },
  {
   "cell_type": "code",
   "execution_count": 71,
   "id": "e8b10454-7404-401f-8d11-4a72e6b56dfc",
   "metadata": {},
   "outputs": [
    {
     "data": {
      "text/plain": [
       "{'C': 1.0, 'class_weight': None, 'kernel': 'rbf', 'random_state': 600}"
      ]
     },
     "execution_count": 71,
     "metadata": {},
     "output_type": "execute_result"
    }
   ],
   "source": [
    "svc = SVC()\n",
    "\n",
    "grid = {\n",
    "    'C': [1.0],\n",
    "    'kernel': ['linear', 'poly', 'rbf', 'sigmoid'],\n",
    "    'class_weight': [None],\n",
    "    'random_state': [600]}\n",
    "\n",
    "\n",
    "osvc = GridSearchCV(estimator = svc, param_grid = grid, scoring='f1')\n",
    "\n",
    "osvc.fit(X_train, y_train)\n",
    "\n",
    "osvc.best_score_ \n",
    "osvc.best_params_"
   ]
  },
  {
   "cell_type": "code",
   "execution_count": 74,
   "id": "1e140c2b-9bc7-4bed-bf52-27213a20c73d",
   "metadata": {},
   "outputs": [
    {
     "name": "stdout",
     "output_type": "stream",
     "text": [
      "Evaluation on training data\n"
     ]
    },
    {
     "data": {
      "text/html": [
       "<div>\n",
       "<style scoped>\n",
       "    .dataframe tbody tr th:only-of-type {\n",
       "        vertical-align: middle;\n",
       "    }\n",
       "\n",
       "    .dataframe tbody tr th {\n",
       "        vertical-align: top;\n",
       "    }\n",
       "\n",
       "    .dataframe thead th {\n",
       "        text-align: right;\n",
       "    }\n",
       "</style>\n",
       "<table border=\"1\" class=\"dataframe\">\n",
       "  <thead>\n",
       "    <tr style=\"text-align: right;\">\n",
       "      <th></th>\n",
       "      <th>metric_name</th>\n",
       "      <th>metric_value</th>\n",
       "    </tr>\n",
       "  </thead>\n",
       "  <tbody>\n",
       "    <tr>\n",
       "      <th>0</th>\n",
       "      <td>Accuracy</td>\n",
       "      <td>0.962963</td>\n",
       "    </tr>\n",
       "    <tr>\n",
       "      <th>1</th>\n",
       "      <td>Precision</td>\n",
       "      <td>0.956522</td>\n",
       "    </tr>\n",
       "    <tr>\n",
       "      <th>2</th>\n",
       "      <td>Recall</td>\n",
       "      <td>0.880000</td>\n",
       "    </tr>\n",
       "    <tr>\n",
       "      <th>3</th>\n",
       "      <td>F1</td>\n",
       "      <td>0.916667</td>\n",
       "    </tr>\n",
       "    <tr>\n",
       "      <th>4</th>\n",
       "      <td>AUROC</td>\n",
       "      <td>0.933976</td>\n",
       "    </tr>\n",
       "  </tbody>\n",
       "</table>\n",
       "</div>"
      ],
      "text/plain": [
       "  metric_name  metric_value\n",
       "0    Accuracy      0.962963\n",
       "1   Precision      0.956522\n",
       "2      Recall      0.880000\n",
       "3          F1      0.916667\n",
       "4       AUROC      0.933976"
      ]
     },
     "metadata": {},
     "output_type": "display_data"
    },
    {
     "name": "stdout",
     "output_type": "stream",
     "text": [
      "Evaluation on test data\n"
     ]
    },
    {
     "data": {
      "text/html": [
       "<div>\n",
       "<style scoped>\n",
       "    .dataframe tbody tr th:only-of-type {\n",
       "        vertical-align: middle;\n",
       "    }\n",
       "\n",
       "    .dataframe tbody tr th {\n",
       "        vertical-align: top;\n",
       "    }\n",
       "\n",
       "    .dataframe thead th {\n",
       "        text-align: right;\n",
       "    }\n",
       "</style>\n",
       "<table border=\"1\" class=\"dataframe\">\n",
       "  <thead>\n",
       "    <tr style=\"text-align: right;\">\n",
       "      <th></th>\n",
       "      <th>metric_name</th>\n",
       "      <th>metric_value</th>\n",
       "    </tr>\n",
       "  </thead>\n",
       "  <tbody>\n",
       "    <tr>\n",
       "      <th>0</th>\n",
       "      <td>Accuracy</td>\n",
       "      <td>0.978723</td>\n",
       "    </tr>\n",
       "    <tr>\n",
       "      <th>1</th>\n",
       "      <td>Precision</td>\n",
       "      <td>1.000000</td>\n",
       "    </tr>\n",
       "    <tr>\n",
       "      <th>2</th>\n",
       "      <td>Recall</td>\n",
       "      <td>0.909091</td>\n",
       "    </tr>\n",
       "    <tr>\n",
       "      <th>3</th>\n",
       "      <td>F1</td>\n",
       "      <td>0.952381</td>\n",
       "    </tr>\n",
       "    <tr>\n",
       "      <th>4</th>\n",
       "      <td>AUROC</td>\n",
       "      <td>0.954545</td>\n",
       "    </tr>\n",
       "  </tbody>\n",
       "</table>\n",
       "</div>"
      ],
      "text/plain": [
       "  metric_name  metric_value\n",
       "0    Accuracy      0.978723\n",
       "1   Precision      1.000000\n",
       "2      Recall      0.909091\n",
       "3          F1      0.952381\n",
       "4       AUROC      0.954545"
      ]
     },
     "metadata": {},
     "output_type": "display_data"
    }
   ],
   "source": [
    "y_hat = osvc.predict(X_train)\n",
    "osvc_performance_train = model_performance_evaluation(y_train, y_hat) \n",
    "y_pred = osvc.predict(X_test)\n",
    "osvc_performance_test = model_performance_evaluation(y_test, y_pred)\n",
    "print(\"Evaluation on training data\")\n",
    "display(osvc_performance_train)\n",
    "print(\"Evaluation on test data\")\n",
    "display(osvc_performance_test)"
   ]
  },
  {
   "cell_type": "markdown",
   "id": "ebec0be0-5655-406b-a44d-73f431f39992",
   "metadata": {},
   "source": [
    "**Discussion:**\n",
    "We can observe that the model works well on both training and test data."
   ]
  }
 ],
 "metadata": {
  "kernelspec": {
   "display_name": "Python 3 (ipykernel)",
   "language": "python",
   "name": "python3"
  },
  "language_info": {
   "codemirror_mode": {
    "name": "ipython",
    "version": 3
   },
   "file_extension": ".py",
   "mimetype": "text/x-python",
   "name": "python",
   "nbconvert_exporter": "python",
   "pygments_lexer": "ipython3",
   "version": "3.10.12"
  }
 },
 "nbformat": 4,
 "nbformat_minor": 5
}
